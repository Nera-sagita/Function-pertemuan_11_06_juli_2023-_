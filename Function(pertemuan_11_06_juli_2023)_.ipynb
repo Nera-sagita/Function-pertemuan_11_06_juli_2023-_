{
  "nbformat": 4,
  "nbformat_minor": 0,
  "metadata": {
    "colab": {
      "provenance": []
    },
    "kernelspec": {
      "name": "python3",
      "display_name": "Python 3"
    },
    "language_info": {
      "name": "python"
    }
  },
  "cells": [
    {
      "cell_type": "markdown",
      "source": [
        "# Function\n",
        "\n",
        "Function(fungsi) adalah sebuah blok statement yang hanya akan dijalankan saat ia panggil.\n",
        "\n",
        "Fungsi len() untuk mengukur jumlah elemen dalam sebuah list dan fungsi print() untuk menampilkan pesan pada layar konsol merupakan contoh dari bentuk fungsi yang telah disediakan oleh bahasa pemrograman Python dengan kata lain built-in function. Selain fungsi yang telah disediakan oleh Python, Python mengizinkan untuk mendeklarasikan fungsi dalam kode yang dituliskan yang dikelal dengan user defined function."
      ],
      "metadata": {
        "id": "TZ2j7zIcQTGv"
      }
    },
    {
      "cell_type": "code",
      "source": [
        "def nama_fungsi(argument):\n",
        "  statement_1\n",
        "\n",
        "  statement_n\n",
        "  return returned_value"
      ],
      "metadata": {
        "id": "i1gQBbZERWhD"
      },
      "execution_count": null,
      "outputs": []
    },
    {
      "cell_type": "markdown",
      "source": [
        "*   nama_fungsi adalah untuk fungsi yang anda definisikan, memiliki aturan seperti penamaan variabel\n",
        "*   argument adalah variabel masukan ke fungsi, biasa tanpa variabel, satu variabel atau lebih\n",
        "*   statement_1, statement_n adalah algoritma yang telah anda transfer dalam bahasa python yang merupakan inti dari fungsi yang anda definisikan seluruh statement adalah menjorok(indent) ke dalam seperti yang pertama anda pelajari pada conditioning dan looping\n",
        "*   return_value adalah variabel output dari fungsi anda bisa tanpa variabel satu variabel atau lebih\n",
        "\n"
      ],
      "metadata": {
        "id": "kS0ZiExWRsGA"
      }
    },
    {
      "cell_type": "markdown",
      "source": [
        "# Argumen dan Parameter\n",
        "\n",
        "* Parameter adalah variabel yang digunakan dalam deklarasi fungsi\n",
        "* Argumen adalah nilai yang diberikan saat pemanggilan fungsi"
      ],
      "metadata": {
        "id": "-xv_Zvi4S2xq"
      }
    },
    {
      "cell_type": "code",
      "source": [
        "def print_nama(nama):# 'nama' adalah parameter\n",
        "    print(nama)\n",
        "\n",
        "print_nama('Budi') # 'Budi' adalah argumen"
      ],
      "metadata": {
        "colab": {
          "base_uri": "https://localhost:8080/"
        },
        "id": "I28JXtR-TE4-",
        "outputId": "31fa4b02-b591-4b2e-ecb8-b3895d7fd399"
      },
      "execution_count": null,
      "outputs": [
        {
          "output_type": "stream",
          "name": "stdout",
          "text": [
            "Budi\n"
          ]
        }
      ]
    },
    {
      "cell_type": "markdown",
      "source": [
        "# Argumen Posisi dan Kata Kunci\n",
        "\n",
        "Kata bisa menyatakan argumen posisi atau kata kunci. Beberapa manfaat argumen kata kunci dapat berupa :\n",
        " * kata dapat menyebut argumen dengan mereka untuk memperjelaskan apa yang mereka wakili\n",
        " * Kita dapat mengatur ulang argumen dengan cara membuatnya paling muda dibaca"
      ],
      "metadata": {
        "id": "uPTtdfSATbV6"
      }
    },
    {
      "cell_type": "code",
      "source": [
        "def angka(a, b, c):\n",
        "  print(a, b, c)\n",
        "\n",
        "# argumen posisi\n",
        "# argumen berdasarkan posisinya\n",
        "angka(1, 2, 3)\n",
        "\n",
        "# argumen berdasarkan kata kuncinya\n",
        "angka(a=1, b=2, c=3)\n",
        "angka(c=3, b=2, a=1)\n",
        "\n",
        "# CATATAN : jika udah diberi kunci maka urutan tidak menjadi penting\n",
        "\n",
        "# Campuran antara argumen posisi dan argumen kata kunci\n",
        "angka(1, b=2, c=3)\n",
        "\n",
        "# Ini tidak diijinkan :\n",
        "# Fool(1, b=2, c=3) # argumen posisional setelah argumen kunci\n",
        "# Fool(1, b=2, a=3) # terdapat dua nilai untuk argumen kecil 'a"
      ],
      "metadata": {
        "colab": {
          "base_uri": "https://localhost:8080/"
        },
        "id": "bNnxysINT2rS",
        "outputId": "60b49a1c-85f0-4e58-87b7-552744be8282"
      },
      "execution_count": null,
      "outputs": [
        {
          "output_type": "stream",
          "name": "stdout",
          "text": [
            "1 2 3\n",
            "1 2 3\n",
            "1 2 3\n",
            "1 2 3\n"
          ]
        }
      ]
    },
    {
      "cell_type": "markdown",
      "source": [
        "# Argumen Default\n",
        "\n",
        "Fungsi dapat memiliki argumen defaut dengan nilai yang telah ditentukan sebelumnya. Argumen ini dapat ditinggalkan dan nilai defaut kemudian diteruskan ke fungsi atau argumen dapat diubah dengan nilai yang berbeda. Perhatikan bahwa argumen default harus ditentukan sebagai **Parameter terakhir** dalam suatu fungsi."
      ],
      "metadata": {
        "id": "qgDs53x8Uy1d"
      }
    },
    {
      "cell_type": "code",
      "source": [
        "# Argumen default\n",
        "def angka2(a,b,c,d=4):\n",
        "  print(1,b,c,d)\n",
        "\n",
        "angka2(1,2,3,4)\n",
        "angka2(1,b=2,c=3,d=100)\n",
        "\n",
        "# argumen default harus diletakkan terakhir"
      ],
      "metadata": {
        "colab": {
          "base_uri": "https://localhost:8080/"
        },
        "id": "u3V1NPIzVRmc",
        "outputId": "1f6fd912-395a-4c46-e404-2387e40bf2af"
      },
      "execution_count": null,
      "outputs": [
        {
          "output_type": "stream",
          "name": "stdout",
          "text": [
            "1 2 3 4\n",
            "1 2 3 100\n"
          ]
        }
      ]
    },
    {
      "cell_type": "markdown",
      "source": [
        "# Praktik Membuat Fungsi"
      ],
      "metadata": {
        "id": "BH2adDSpVnQC"
      }
    },
    {
      "cell_type": "code",
      "source": [
        "x = 1\n",
        "y = 2\n",
        "x*y"
      ],
      "metadata": {
        "colab": {
          "base_uri": "https://localhost:8080/"
        },
        "id": "JjrQo5NyVrTD",
        "outputId": "a9c9e1c1-88ab-4865-fdc4-9a37465c5347"
      },
      "execution_count": null,
      "outputs": [
        {
          "output_type": "execute_result",
          "data": {
            "text/plain": [
              "2"
            ]
          },
          "metadata": {},
          "execution_count": 7
        }
      ]
    },
    {
      "cell_type": "code",
      "source": [
        "def penjumlahan(x,y): #input\n",
        "  a = x+y #proses\n",
        "  return a  #output\n",
        "\n",
        "penjumlahan(1,2)  #menggunakan fungsi\n"
      ],
      "metadata": {
        "colab": {
          "base_uri": "https://localhost:8080/"
        },
        "id": "M92W_-EEVrEV",
        "outputId": "7771556e-9838-4bea-8855-29b99cf23ec5"
      },
      "execution_count": null,
      "outputs": [
        {
          "output_type": "execute_result",
          "data": {
            "text/plain": [
              "3"
            ]
          },
          "metadata": {},
          "execution_count": 8
        }
      ]
    },
    {
      "cell_type": "markdown",
      "source": [
        "**Penjumlahan yang memugkinkan untuk tiga bilangan**"
      ],
      "metadata": {
        "id": "lQ94-jCrWDd1"
      }
    },
    {
      "cell_type": "code",
      "source": [
        "def penjumlahan(x,y,z=None):\n",
        "  if (z==None):\n",
        "    return x+y\n",
        "  else :\n",
        "    return x+y+z\n",
        "\n",
        "print(penjumlahan(1,2))\n",
        "print(penjumlahan(1,2,3))"
      ],
      "metadata": {
        "colab": {
          "base_uri": "https://localhost:8080/"
        },
        "id": "NQCwIcdcWCGL",
        "outputId": "0addc3c2-5df7-4ca4-fda7-4a4be7d05a0d"
      },
      "execution_count": null,
      "outputs": [
        {
          "output_type": "stream",
          "name": "stdout",
          "text": [
            "3\n",
            "6\n"
          ]
        }
      ]
    },
    {
      "cell_type": "markdown",
      "source": [
        "**Menyimpan hasil fungsi dalam variabel**"
      ],
      "metadata": {
        "id": "uSAfuPggWckj"
      }
    },
    {
      "cell_type": "code",
      "source": [
        "def penjumlahan(x,y):\n",
        "  return x+y\n",
        "\n",
        "a = penjumlahan\n",
        "a(1,2)"
      ],
      "metadata": {
        "colab": {
          "base_uri": "https://localhost:8080/"
        },
        "id": "T3E4s8G_WCCv",
        "outputId": "9a2947ba-d420-4db7-c30a-dc630da3b299"
      },
      "execution_count": null,
      "outputs": [
        {
          "output_type": "execute_result",
          "data": {
            "text/plain": [
              "3"
            ]
          },
          "metadata": {},
          "execution_count": 10
        }
      ]
    },
    {
      "cell_type": "markdown",
      "source": [
        "# Latihan 1\n",
        "\n",
        "Buatlah function phytagoras dengan input argumennya panjang tinggi dan alas segitiga untuk menghasilkan output nilai panjang sisi miring"
      ],
      "metadata": {
        "id": "mm_pjxSzlvBr"
      }
    },
    {
      "cell_type": "code",
      "source": [
        "import math\n",
        "a = float(input(\"masukkan panjang tinggi: \"))\n",
        "b = float(input(\"masukkan panjang alas: \"))\n",
        "c = math.sqrt(a ** 2 + b ** 2)\n",
        "print(f\"nilai panjang sisi miringnya adalah {c}\")"
      ],
      "metadata": {
        "colab": {
          "base_uri": "https://localhost:8080/"
        },
        "id": "aFgMtK78nmu5",
        "outputId": "8f9f81de-f8e8-4912-bbbf-e5c30b622f0e"
      },
      "execution_count": null,
      "outputs": [
        {
          "output_type": "stream",
          "name": "stdout",
          "text": [
            "masukkan panjang tinggi: 5\n",
            "masukkan panjang alas: 8\n",
            "nilai panjang sisi miringnya adalah 9.433981132056603\n"
          ]
        }
      ]
    },
    {
      "cell_type": "markdown",
      "source": [
        "# Latihan 2\n",
        "\n",
        "Buatlah function luas permukaan luas permukaan balok dengan input argumennya panjang, lebar, tinggi dari balok untuk meghasilkan output nilai luas permukaan balok tersebut"
      ],
      "metadata": {
        "id": "oGzpUqgNlc-a"
      }
    },
    {
      "cell_type": "code",
      "source": [
        "# CARA 1\n",
        "def luas_balok(p, l, t):\n",
        "    return ((p*l) + (p*t) + (l*t))*2\n",
        "\n",
        "luas_balok(5, 2, 3)"
      ],
      "metadata": {
        "colab": {
          "base_uri": "https://localhost:8080/"
        },
        "id": "F_A5eaHHoKvS",
        "outputId": "7d0657a2-019d-4acb-8099-bec09178ba4a"
      },
      "execution_count": null,
      "outputs": [
        {
          "output_type": "execute_result",
          "data": {
            "text/plain": [
              "62"
            ]
          },
          "metadata": {},
          "execution_count": 11
        }
      ]
    },
    {
      "cell_type": "code",
      "source": [
        "# CARA 2\n",
        "def luas_permukaan_balok(panjang, lebar, tinggi):\n",
        "  luas_permukaan_balok = (2*(panjang*lebar+panjang*tinggi+lebar*tinggi))\n",
        "  return luas_permukaan_balok\n",
        "\n",
        "#Eksekusi penggunaan fungsi\n",
        "panjang = int(input(\"panjang :\"))\n",
        "lebar = int(input(\"lebar :\"))\n",
        "tinggi = int(input(\"tinggi :\"))\n",
        "luas_permukaan_balok = luas_permukaan_balok(panjang, lebar, tinggi)\n",
        "print(\"luas permukaan baloknya adalah :\", luas_permukaan_balok)"
      ],
      "metadata": {
        "id": "KjWBI7ReoLYn",
        "colab": {
          "base_uri": "https://localhost:8080/"
        },
        "outputId": "2d96cc36-79e5-4ccc-ac03-d4ffe651d498"
      },
      "execution_count": null,
      "outputs": [
        {
          "output_type": "stream",
          "name": "stdout",
          "text": [
            "panjang :10\n",
            "lebar :5\n",
            "tinggi :8\n",
            "luas permukaan baloknya adalah : 340\n"
          ]
        }
      ]
    }
  ]
}